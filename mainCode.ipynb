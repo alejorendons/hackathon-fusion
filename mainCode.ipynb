import pandas as pd, gzip, json
from pathlib import Path
import dash
from dash import dcc, html
import plotly.express as px

def load_data(path="data/raw"):
    rows = []
    for file in Path(path).glob("*.json.gz"):
        with gzip.open(file, 'rt', encoding='utf-8') as f:
            for line in f:
                e = json.loads(line)
                rows.append({
                    'created_at': e.get('created_at'),
                    'type': e.get('type'),
                    'repo': e.get('repo', {}).get('name'),
                    'actor': e.get('actor', {}).get('login')
                })
    df = pd.DataFrame(rows).dropna()
    df['created_at'] = pd.to_datetime(df['created_at'])
    return df

df = load_data()

top_events = df['type'].value_counts().nlargest(5)
top_repos = df['repo'].value_counts().nlargest(5)
top_users = df['actor'].value_counts().nlargest(5)
events_by_hour = df.set_index('created_at').resample('h').size().reset_index(name='count')

app = dash.Dash(__name__)
app.layout = html.Div([
    html.H1("GitHub Activity Dashboard"),
    dcc.Graph(figure=px.bar(top_events, title="Eventos más frecuentes", labels={'value': 'Eventos', 'index': 'Tipo'})),
    dcc.Graph(figure=px.bar(top_repos, title="Repositorios con más actividad", labels={'value': 'Eventos', 'index': 'Repositorio'})),
    dcc.Graph(figure=px.bar(top_users, title="Usuarios más activos", labels={'value': 'Eventos', 'index': 'Usuario'})),
    dcc.Graph(figure=px.line(events_by_hour, x='created_at', y='count', title="Eventos por hora"))
])

if __name__ == "__main__":
    app.run(debug=True)
